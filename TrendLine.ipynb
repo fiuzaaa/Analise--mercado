{
  "nbformat": 4,
  "nbformat_minor": 0,
  "metadata": {
    "colab": {
      "name": "TrendLine.ipynb",
      "provenance": [],
      "authorship_tag": "ABX9TyO6lQLwuLsJXd4U+Te2xUcy",
      "include_colab_link": true
    },
    "kernelspec": {
      "name": "python3",
      "display_name": "Python 3"
    }
  },
  "cells": [
    {
      "cell_type": "markdown",
      "metadata": {
        "id": "view-in-github",
        "colab_type": "text"
      },
      "source": [
        "<a href=\"https://colab.research.google.com/github/fiuzaaa/Analise--mercado/blob/master/TrendLine.ipynb\" target=\"_parent\"><img src=\"https://colab.research.google.com/assets/colab-badge.svg\" alt=\"Open In Colab\"/></a>"
      ]
    },
    {
      "cell_type": "code",
      "metadata": {
        "id": "pHVt6cN0y_E8",
        "colab_type": "code",
        "colab": {
          "base_uri": "https://localhost:8080/",
          "height": 83
        },
        "outputId": "68fc149f-706b-4ab6-ff71-d0f7bc52a486"
      },
      "source": [
        "# Clone the entire repo.\n",
        "import os\n",
        "from getpass import getpass\n",
        "user = 'fiuzaaa'\n",
        "password = 'mathema10!'\n",
        "os.environ['GITHUB_AUTH'] = user + ':' + password\n",
        "!git clone https://$GITHUB_AUTH@github.com/fiuzaaa/Analise--mercado.git\n",
        "\n",
        "\n",
        "%cd cloned-repo\n",
        "!ls"
      ],
      "execution_count": 1,
      "outputs": [
        {
          "output_type": "stream",
          "text": [
            "fatal: destination path 'Analise--mercado' already exists and is not an empty directory.\n",
            "[Errno 2] No such file or directory: 'cloned-repo'\n",
            "/content\n",
            "Analise--mercado\n"
          ],
          "name": "stdout"
        }
      ]
    },
    {
      "cell_type": "code",
      "metadata": {
        "id": "L7vi6rstUBJF",
        "colab_type": "code",
        "colab": {}
      },
      "source": [
        "import pandas as pd\n",
        "from scipy.stats import linregress"
      ],
      "execution_count": 2,
      "outputs": []
    },
    {
      "cell_type": "code",
      "metadata": {
        "id": "7Sk8fqfRZEPU",
        "colab_type": "code",
        "colab": {
          "base_uri": "https://localhost:8080/",
          "height": 197
        },
        "outputId": "c80ee079-e445-4e00-b42c-ace465e8fa2a"
      },
      "source": [
        "data = pd.read_csv('Analise--mercado/Data/WIKI-AAPL.csv')\n",
        "data.head()\n"
      ],
      "execution_count": 3,
      "outputs": [
        {
          "output_type": "execute_result",
          "data": {
            "text/html": [
              "<div>\n",
              "<style scoped>\n",
              "    .dataframe tbody tr th:only-of-type {\n",
              "        vertical-align: middle;\n",
              "    }\n",
              "\n",
              "    .dataframe tbody tr th {\n",
              "        vertical-align: top;\n",
              "    }\n",
              "\n",
              "    .dataframe thead th {\n",
              "        text-align: right;\n",
              "    }\n",
              "</style>\n",
              "<table border=\"1\" class=\"dataframe\">\n",
              "  <thead>\n",
              "    <tr style=\"text-align: right;\">\n",
              "      <th></th>\n",
              "      <th>Date</th>\n",
              "      <th>Open</th>\n",
              "      <th>High</th>\n",
              "      <th>Low</th>\n",
              "      <th>Close</th>\n",
              "      <th>Volume</th>\n",
              "      <th>Ex-Dividend</th>\n",
              "      <th>Split Ratio</th>\n",
              "      <th>Adj. Open</th>\n",
              "      <th>Adj. High</th>\n",
              "      <th>Adj. Low</th>\n",
              "      <th>Adj. Close</th>\n",
              "      <th>Adj. Volume</th>\n",
              "    </tr>\n",
              "  </thead>\n",
              "  <tbody>\n",
              "    <tr>\n",
              "      <th>0</th>\n",
              "      <td>2018-03-27</td>\n",
              "      <td>173.68</td>\n",
              "      <td>175.15</td>\n",
              "      <td>166.92</td>\n",
              "      <td>168.340</td>\n",
              "      <td>38962839.0</td>\n",
              "      <td>0.0</td>\n",
              "      <td>1.0</td>\n",
              "      <td>173.68</td>\n",
              "      <td>175.15</td>\n",
              "      <td>166.92</td>\n",
              "      <td>168.340</td>\n",
              "      <td>38962839.0</td>\n",
              "    </tr>\n",
              "    <tr>\n",
              "      <th>1</th>\n",
              "      <td>2018-03-26</td>\n",
              "      <td>168.07</td>\n",
              "      <td>173.10</td>\n",
              "      <td>166.44</td>\n",
              "      <td>172.770</td>\n",
              "      <td>36272617.0</td>\n",
              "      <td>0.0</td>\n",
              "      <td>1.0</td>\n",
              "      <td>168.07</td>\n",
              "      <td>173.10</td>\n",
              "      <td>166.44</td>\n",
              "      <td>172.770</td>\n",
              "      <td>36272617.0</td>\n",
              "    </tr>\n",
              "    <tr>\n",
              "      <th>2</th>\n",
              "      <td>2018-03-23</td>\n",
              "      <td>168.39</td>\n",
              "      <td>169.92</td>\n",
              "      <td>164.94</td>\n",
              "      <td>164.940</td>\n",
              "      <td>40248954.0</td>\n",
              "      <td>0.0</td>\n",
              "      <td>1.0</td>\n",
              "      <td>168.39</td>\n",
              "      <td>169.92</td>\n",
              "      <td>164.94</td>\n",
              "      <td>164.940</td>\n",
              "      <td>40248954.0</td>\n",
              "    </tr>\n",
              "    <tr>\n",
              "      <th>3</th>\n",
              "      <td>2018-03-22</td>\n",
              "      <td>170.00</td>\n",
              "      <td>172.68</td>\n",
              "      <td>168.60</td>\n",
              "      <td>168.845</td>\n",
              "      <td>41051076.0</td>\n",
              "      <td>0.0</td>\n",
              "      <td>1.0</td>\n",
              "      <td>170.00</td>\n",
              "      <td>172.68</td>\n",
              "      <td>168.60</td>\n",
              "      <td>168.845</td>\n",
              "      <td>41051076.0</td>\n",
              "    </tr>\n",
              "    <tr>\n",
              "      <th>4</th>\n",
              "      <td>2018-03-21</td>\n",
              "      <td>175.04</td>\n",
              "      <td>175.09</td>\n",
              "      <td>171.26</td>\n",
              "      <td>171.270</td>\n",
              "      <td>35247358.0</td>\n",
              "      <td>0.0</td>\n",
              "      <td>1.0</td>\n",
              "      <td>175.04</td>\n",
              "      <td>175.09</td>\n",
              "      <td>171.26</td>\n",
              "      <td>171.270</td>\n",
              "      <td>35247358.0</td>\n",
              "    </tr>\n",
              "  </tbody>\n",
              "</table>\n",
              "</div>"
            ],
            "text/plain": [
              "         Date    Open    High  ...  Adj. Low  Adj. Close  Adj. Volume\n",
              "0  2018-03-27  173.68  175.15  ...    166.92     168.340   38962839.0\n",
              "1  2018-03-26  168.07  173.10  ...    166.44     172.770   36272617.0\n",
              "2  2018-03-23  168.39  169.92  ...    164.94     164.940   40248954.0\n",
              "3  2018-03-22  170.00  172.68  ...    168.60     168.845   41051076.0\n",
              "4  2018-03-21  175.04  175.09  ...    171.26     171.270   35247358.0\n",
              "\n",
              "[5 rows x 13 columns]"
            ]
          },
          "metadata": {
            "tags": []
          },
          "execution_count": 3
        }
      ]
    },
    {
      "cell_type": "code",
      "metadata": {
        "id": "dzKlOaY4T4E-",
        "colab_type": "code",
        "colab": {
          "base_uri": "https://localhost:8080/",
          "height": 264
        },
        "outputId": "3ea8c524-a260-4ec4-cc58-2e778ce97b13"
      },
      "source": [
        "data0 = data.copy()\n",
        "data0['date_id'] =  data0.index\n",
        "\n",
        "data0 = data0[8800:9000]\n",
        "\n",
        "# high trend line\n",
        "\n",
        "data1 = data0\n",
        "\n",
        "while len(data1)>5:\n",
        "\n",
        "    reg = linregress(\n",
        "                    x=data1['date_id'],\n",
        "                    y=data1['Adj. High'],\n",
        "                    )\n",
        "    data1 = data1.loc[data1['Adj. High'] > reg[0] * data1['date_id'] + reg[1]]\n",
        "\n",
        "reg = linregress(\n",
        "                    x=data1['date_id'],\n",
        "                    y=data1['Adj. High'],\n",
        "                    )\n",
        "\n",
        "data0['high_trend'] = reg[0] * data0['date_id'] + reg[1]\n",
        "\n",
        "# low trend line\n",
        "\n",
        "data1 = data0\n",
        "\n",
        "while len(data1)>5:\n",
        "\n",
        "    reg = linregress(\n",
        "                    x=data1['date_id'],\n",
        "                    y=data1['Adj. Low'],\n",
        "                    )\n",
        "    data1 = data1.loc[data1['Adj. Low'] < reg[0] * data1['date_id'] + reg[1]]\n",
        "\n",
        "reg = linregress(\n",
        "                    x=data1['date_id'],\n",
        "                    y=data1['Adj. Low'],\n",
        "                    )\n",
        "\n",
        "data0['low_trend'] = reg[0] * data0['date_id'] + reg[1]\n",
        "\n",
        "# trend line\n",
        "data1 = data0\n",
        "reg = linregress(x=data1['date_id'],\n",
        "                 y=data1['Adj. Close']\n",
        "                 )\n",
        "data0['close_trend'] = reg[0] * data0['date_id'] + reg[1]\n",
        "\n",
        "# plot\n",
        "\n",
        "data0['Adj. Close'].plot();\n",
        "\n",
        "#data['Adj. High'][8000::].plot();\n",
        "#data['Adj. Low'][8000::].plot();\n",
        "\n",
        "data0['high_trend'].plot();\n",
        "data0['low_trend'].plot();\n",
        "data0['close_trend'].plot();\n"
      ],
      "execution_count": 4,
      "outputs": [
        {
          "output_type": "display_data",
          "data": {
            "image/png": "[encoded data removed]",
            "text/plain": [
              "<Figure size 432x288 with 1 Axes>"
            ]
          },
          "metadata": {
            "tags": [],
            "needs_background": "light"
          }
        }
      ]
    }
  ]
}